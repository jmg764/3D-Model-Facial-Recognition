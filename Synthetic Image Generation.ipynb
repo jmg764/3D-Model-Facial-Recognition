{
 "cells": [
  {
   "cell_type": "code",
   "execution_count": 6,
   "metadata": {},
   "outputs": [],
   "source": [
    "# Packages\n",
    "# pip install pywavefront\n",
    "# pip install pyglet"
   ]
  },
  {
   "cell_type": "code",
   "execution_count": 7,
   "metadata": {},
   "outputs": [],
   "source": [
    "import ctypes\n",
    "import os\n",
    "import sys\n",
    "import random\n",
    "\n",
    "# sys.path.append('..')\n",
    "import pyglet\n",
    "from pyglet.gl import *\n",
    "\n",
    "from pywavefront import visualization\n",
    "import pywavefront"
   ]
  },
  {
   "cell_type": "code",
   "execution_count": 8,
   "metadata": {},
   "outputs": [],
   "source": [
    "root_source_folder = os.path.join(os.getcwd(), \"Florence Face\")\n",
    "root_output_folder = os.path.join(os.getcwd(), \"training-data\")\n",
    "\n",
    "subject_folders = os.listdir(root_source_folder)\n",
    "sub_path_frontal1 = \"/Model/frontal1/obj\"\n",
    "sub_path_frontal2 = \"/Model/frontal2/obj\"\n",
    "\n",
    "if not os.path.exists(root_output_folder):\n",
    "    os.mkdir(root_output_folder)\n",
    "\n",
    "full_subject_paths_frontal1 = []\n",
    "full_subject_paths_frontal2 = []\n",
    "for i in range(len(subject_folders)):\n",
    "    full_subject_folder_path = os.path.join(root_source_folder, subject_folders[i] + sub_path_frontal1)\n",
    "    \n",
    "    obj_name = next((f for f in os.listdir(full_subject_folder_path) if f.endswith('.obj')), None)\n",
    "    full_subject_paths_frontal1.append(os.path.join(full_subject_folder_path, obj_name))\n",
    "    \n",
    "    full_subject_folder_path = os.path.join(root_source_folder, subject_folders[i] + sub_path_frontal2)\n",
    "    \n",
    "    obj_name = next((f for f in os.listdir(full_subject_folder_path) if f.endswith('.obj')), None)\n",
    "    full_subject_paths_frontal2.append(os.path.join(full_subject_folder_path, obj_name))\n",
    "        \n",
    "full_subject_paths_frontal1.sort()\n",
    "full_subject_paths_frontal2.sort()"
   ]
  },
  {
   "cell_type": "code",
   "execution_count": 9,
   "metadata": {},
   "outputs": [
    {
     "name": "stderr",
     "output_type": "stream",
     "text": [
      "Unimplemented OBJ format statement 'ka' on line 'ka 0.329412 0.223529 0.027451'\n",
      "Unimplemented OBJ format statement 'kd' on line 'kd 0.780392 0.568627 0.113725'\n",
      "Unimplemented OBJ format statement 'ks' on line 'ks 0.992157 0.941176 0.807843'\n",
      "Unimplemented OBJ format statement 'g' on line 'g 110920150452'\n"
     ]
    },
    {
     "name": "stdout",
     "output_type": "stream",
     "text": [
      "/Users/brunnellvelazquez/Documents/Spring 2020/Computer Vision/Final Project/cv_project/Florence Face/subject_01/Model/frontal1/obj/110920150452.obj\n"
     ]
    },
    {
     "name": "stderr",
     "output_type": "stream",
     "text": [
      "Unimplemented OBJ format statement 'ka' on line 'ka 0.329412 0.223529 0.027451'\n",
      "Unimplemented OBJ format statement 'kd' on line 'kd 0.780392 0.568627 0.113725'\n",
      "Unimplemented OBJ format statement 'ks' on line 'ks 0.992157 0.941176 0.807843'\n"
     ]
    },
    {
     "name": "stdout",
     "output_type": "stream",
     "text": [
      "/Users/brunnellvelazquez/Documents/Spring 2020/Computer Vision/Final Project/cv_project/Florence Face/subject_02/Model/frontal1/obj/110921110609.obj\n"
     ]
    },
    {
     "name": "stderr",
     "output_type": "stream",
     "text": [
      "Unimplemented OBJ format statement 'g' on line 'g 110921110609'\n",
      "Unimplemented OBJ format statement 'ka' on line 'ka 0.329412 0.223529 0.027451'\n",
      "Unimplemented OBJ format statement 'kd' on line 'kd 0.780392 0.568627 0.113725'\n",
      "Unimplemented OBJ format statement 'ks' on line 'ks 0.992157 0.941176 0.807843'\n",
      "Unimplemented OBJ format statement 'ka' on line 'ka 0.329412 0.223529 0.027451'\n",
      "Unimplemented OBJ format statement 'kd' on line 'kd 0.780392 0.568627 0.113725'\n",
      "Unimplemented OBJ format statement 'ks' on line 'ks 0.992157 0.941176 0.807843'\n"
     ]
    },
    {
     "name": "stdout",
     "output_type": "stream",
     "text": [
      "/Users/brunnellvelazquez/Documents/Spring 2020/Computer Vision/Final Project/cv_project/Florence Face/subject_03/Model/frontal1/obj/110929154302.obj\n",
      "front1 failed\n",
      "/Users/brunnellvelazquez/Documents/Spring 2020/Computer Vision/Final Project/cv_project/Florence Face/subject_03/Model/frontal2/obj/110929154313.obj\n"
     ]
    },
    {
     "name": "stderr",
     "output_type": "stream",
     "text": [
      "Unimplemented OBJ format statement 'g' on line 'g 110929154313'\n",
      "Unimplemented OBJ format statement 'ka' on line 'ka 0.329412 0.223529 0.027451'\n",
      "Unimplemented OBJ format statement 'kd' on line 'kd 0.780392 0.568627 0.113725'\n",
      "Unimplemented OBJ format statement 'ks' on line 'ks 0.992157 0.941176 0.807843'\n"
     ]
    },
    {
     "name": "stdout",
     "output_type": "stream",
     "text": [
      "/Users/brunnellvelazquez/Documents/Spring 2020/Computer Vision/Final Project/cv_project/Florence Face/subject_04/Model/frontal1/obj/110929151119.obj\n"
     ]
    },
    {
     "name": "stderr",
     "output_type": "stream",
     "text": [
      "Unimplemented OBJ format statement 'g' on line 'g 110929151119'\n",
      "Unimplemented OBJ format statement 'ka' on line 'ka 0.329412 0.223529 0.027451'\n",
      "Unimplemented OBJ format statement 'kd' on line 'kd 0.780392 0.568627 0.113725'\n",
      "Unimplemented OBJ format statement 'ks' on line 'ks 0.992157 0.941176 0.807843'\n"
     ]
    },
    {
     "name": "stdout",
     "output_type": "stream",
     "text": [
      "/Users/brunnellvelazquez/Documents/Spring 2020/Computer Vision/Final Project/cv_project/Florence Face/subject_05/Model/frontal1/obj/110615172137.obj\n"
     ]
    },
    {
     "name": "stderr",
     "output_type": "stream",
     "text": [
      "Unimplemented OBJ format statement 'g' on line 'g 110615172137'\n",
      "Unimplemented OBJ format statement 'ka' on line 'ka 0.329412 0.223529 0.027451'\n",
      "Unimplemented OBJ format statement 'kd' on line 'kd 0.780392 0.568627 0.113725'\n",
      "Unimplemented OBJ format statement 'ks' on line 'ks 0.992157 0.941176 0.807843'\n"
     ]
    },
    {
     "name": "stdout",
     "output_type": "stream",
     "text": [
      "/Users/brunnellvelazquez/Documents/Spring 2020/Computer Vision/Final Project/cv_project/Florence Face/subject_06/Model/frontal1/obj/110614144900.obj\n"
     ]
    },
    {
     "name": "stderr",
     "output_type": "stream",
     "text": [
      "Unimplemented OBJ format statement 'g' on line 'g 110614144900'\n"
     ]
    }
   ],
   "source": [
    "meshes = []\n",
    "for i in range(len(subject_folders)):\n",
    "#     if i == 2: #Not able to read subject 3\n",
    "#         continue\n",
    "    try:\n",
    "        print(full_subject_paths_frontal1[i])\n",
    "        meshes.append(pywavefront.Wavefront(full_subject_paths_frontal1[i]))\n",
    "    except:\n",
    "        print(\"front1 failed\")\n",
    "        print(full_subject_paths_frontal2[i])\n",
    "        meshes.append(pywavefront.Wavefront(full_subject_paths_frontal2[i]))"
   ]
  },
  {
   "cell_type": "code",
   "execution_count": 10,
   "metadata": {},
   "outputs": [],
   "source": [
    "window = pyglet.window.Window()\n",
    "# event_loop = pyglet.app.EventLoop()\n",
    "\n",
    "transformations = None\n",
    "subjectsProcessed = 0\n",
    "snapshotsTaken = 0\n",
    "MAX_SNAPSHOTS = 50\n",
    "\n",
    "@window.event\n",
    "def on_draw():\n",
    "    global transformations\n",
    "    global snapshotsTaken\n",
    "    global subjectsProcessed\n",
    "    \n",
    "    window.clear()\n",
    "    glLoadIdentity()\n",
    "    \n",
    "    transformed = False\n",
    "    if transformations is not None:\n",
    "        glTranslated(transformations[0], transformations[1], -500.0)\n",
    "        glRotatef(transformations[3], 0.0, 1.0, 0.0) #x - rotate\n",
    "        glRotatef(-15.0 + transformations[4], 1.0, 0.0, 0.0) #y - rotate\n",
    "        transformed = True\n",
    "    #     glRotatef(45.0, 0.0, 0.0, 1.0)\n",
    "\n",
    "    if subjectsProcessed < len(meshes):\n",
    "        visualization.draw(meshes[subjectsProcessed])\n",
    "    \n",
    "    if transformed:\n",
    "        snapshotsTaken += 1\n",
    "        output_folder_path = os.path.join(root_output_folder, 's' + str(subjectsProcessed + 1))\n",
    "        output_path = os.path.join(output_folder_path, 'synthetic' + str(snapshotsTaken) + '.png')\n",
    "        if not os.path.exists(output_folder_path):\n",
    "            os.mkdir(output_folder_path)\n",
    "        pyglet.image.get_buffer_manager().get_color_buffer().save(output_path)\n",
    "        transformations = None\n",
    "\n",
    "\n",
    "def update(dt):\n",
    "    global transformations\n",
    "    global snapshotsTaken\n",
    "    global subjectsProcessed\n",
    "    global MAX_SNAPSHOTS\n",
    "    \n",
    "    if snapshotsTaken < MAX_SNAPSHOTS and transformations is None:\n",
    "        xOffset = random.uniform(-100.0, 100.0)\n",
    "        yOffset = random.uniform(-100.0, 100.0)\n",
    "        zOffset = random.uniform(-500.0, -300.0) #Not using\n",
    "        xRotate = random.uniform(-50.0, 50.0)\n",
    "        yRotate = random.uniform(-5.0, 5.0)\n",
    "        transformations = (xOffset, yOffset, zOffset, xRotate, yRotate)\n",
    "    elif snapshotsTaken == MAX_SNAPSHOTS:\n",
    "        subjectsProcessed += 1\n",
    "        if subjectsProcessed < len(meshes):\n",
    "            snapshotsTaken = 0\n",
    "        else:\n",
    "            window.close()\n",
    "        \n",
    "width, height = window.get_size()\n",
    "viewport_width, viewport_height = window.get_framebuffer_size()\n",
    "glViewport(0, 0, viewport_width, viewport_height)\n",
    "\n",
    "glMatrixMode(GL_PROJECTION)\n",
    "glLoadIdentity()\n",
    "gluPerspective(60., float(width)/height, 1., 1000.)\n",
    "glMatrixMode(GL_MODELVIEW)\n",
    "\n",
    "pyglet.clock.schedule_interval(update, 0.1)\n",
    "pyglet.app.run()"
   ]
  }
 ],
 "metadata": {
  "kernelspec": {
   "display_name": "Python 3",
   "language": "python",
   "name": "python3"
  },
  "language_info": {
   "codemirror_mode": {
    "name": "ipython",
    "version": 3
   },
   "file_extension": ".py",
   "mimetype": "text/x-python",
   "name": "python",
   "nbconvert_exporter": "python",
   "pygments_lexer": "ipython3",
   "version": "3.7.4"
  }
 },
 "nbformat": 4,
 "nbformat_minor": 4
}
